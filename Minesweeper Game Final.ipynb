{
 "cells": [
  {
   "cell_type": "markdown",
   "id": "92b0aee3",
   "metadata": {},
   "source": [
    "# Algo\n",
    "1)Create a two-dimensional list to represent the game board, initialized to all 0s.\n",
    "2)Randomly place the specified number of mines on the board, represented by X.\n",
    "3)For each non-mine square on the board, count the number of mines in the surrounding squares and store that count in the square.\n",
    "4)Create a separate two-dimensional list to represent the visibility of each square on the board, initialized to all False.\n",
    "5)Create a method to display the current state of the board, hiding any squares that haven't been revealed yet.\n",
    "6)Create a method to prompt the user for their next move and update the visibility list accordingly.\n",
    "7)If the user hits a mine, end the game and reveal all squares.\n",
    "8)If the user has revealed all non-mine squares, they win the game.\n",
    "9)Provide an option to play again."
   ]
  },
  {
   "cell_type": "code",
   "execution_count": null,
   "id": "bc615c23",
   "metadata": {},
   "outputs": [],
   "source": [
    "import random\n",
    "import SimpleGUICS2Pygame.simpleguics2pygame as simplegui\n",
    "\n",
    "class MinesweeperGUI:\n",
    "    def __init__(self, size, mines):\n",
    "        self.size = size\n",
    "        self.mines = mines\n",
    "        self.cell_size = 30  # Adjust this as needed\n",
    "        self.frame = simplegui.create_frame(\"Minesweeper\", size * self.cell_size, size * self.cell_size)\n",
    "        self.frame.set_canvas_background(\"White\")\n",
    "        self.frame.set_draw_handler(self.draw)\n",
    "        self.frame.set_mouseclick_handler(self.click)\n",
    "        self.game = Minesweeper(size, mines)\n",
    "        self.game_started = False\n",
    "\n",
    "    def start(self):\n",
    "        self.game_started = True\n",
    "        self.frame.start()\n",
    "\n",
    "    def draw(self, canvas):\n",
    "        # Draw the game board and visible cells\n",
    "        for i in range(self.size):\n",
    "            for j in range(self.size):\n",
    "                x = j * self.cell_size\n",
    "                y = i * self.cell_size\n",
    "                canvas.draw_polygon([(x, y), (x + self.cell_size, y), (x + self.cell_size, y + self.cell_size),\n",
    "                                     (x, y + self.cell_size)], 1, \"Black\", \"Grey\")\n",
    "                if self.game.visible[i][j]:\n",
    "                    canvas.draw_text(str(self.game.board[i][j]), (x + self.cell_size // 2, y + self.cell_size // 2),\n",
    "                                     self.cell_size // 2, \"Black\")\n",
    "\n",
    "    def click(self, pos):\n",
    "        if self.game_started:\n",
    "            i = pos[1] // self.cell_size\n",
    "            j = pos[0] // self.cell_size\n",
    "            if 0 <= i < self.size and 0 <= j < self.size and not self.game.game_over:\n",
    "                if not self.game.visible[i][j]:\n",
    "                    self.game.visible[i][j] = True\n",
    "                    if self.game.board[i][j] == -1:\n",
    "                        print(\"Game over! You hit a mine.\")\n",
    "                        self.game.game_over = True\n",
    "                    elif self.game.check_win():\n",
    "                        print(\"You win! Congratulations!\")\n",
    "                        self.game.game_over = True\n",
    "\n",
    "\n",
    "# Driver code\n",
    "if __name__ == \"__main__\":\n",
    "    game_gui = MinesweeperGUI(10, 20)\n",
    "    game_gui.start()\n"
   ]
  }
 ],
 "metadata": {
  "kernelspec": {
   "display_name": "Python 3 (ipykernel)",
   "language": "python",
   "name": "python3"
  },
  "language_info": {
   "codemirror_mode": {
    "name": "ipython",
    "version": 3
   },
   "file_extension": ".py",
   "mimetype": "text/x-python",
   "name": "python",
   "nbconvert_exporter": "python",
   "pygments_lexer": "ipython3",
   "version": "3.9.13"
  }
 },
 "nbformat": 4,
 "nbformat_minor": 5
}
